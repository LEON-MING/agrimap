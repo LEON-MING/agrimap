{
 "cells": [
  {
   "cell_type": "code",
   "execution_count": 1,
   "metadata": {},
   "outputs": [],
   "source": [
    "import numpy as np\n",
    "import pandas as pd\n",
    "import shapefile as shp\n",
    "import matplotlib.figure as figure\n",
    "import matplotlib.patches as mpatches\n",
    "import matplotlib.pyplot as plt\n",
    "import base64\n",
    "from io import BytesIO\n",
    "import pickle\n",
    "from adjustText import adjust_text\n"
   ]
  },
  {
   "cell_type": "code",
   "execution_count": 2,
   "metadata": {},
   "outputs": [],
   "source": [
    "%matplotlib inline"
   ]
  },
  {
   "cell_type": "markdown",
   "metadata": {},
   "source": [
    "# Functions"
   ]
  },
  {
   "cell_type": "code",
   "execution_count": 3,
   "metadata": {},
   "outputs": [],
   "source": [
    "def read_shapefile(sf):\n",
    "    \"\"\"\n",
    "    Read a shapefile into a Pandas dataframe with a 'coords' \n",
    "    column holding the geometry information. This uses the pyshp\n",
    "    package\n",
    "    \"\"\"\n",
    "    fields = [x[0] for x in sf.fields][1:]\n",
    "    records = sf.records()\n",
    "    shps = [s.points for s in sf.shapes()]\n",
    "    df = pd.DataFrame(columns=fields, data=records)\n",
    "    df = df.assign(coords=shps)\n",
    "    return df"
   ]
  },
  {
   "cell_type": "code",
   "execution_count": 4,
   "metadata": {},
   "outputs": [],
   "source": [
    "def calc_color(data, color=None):\n",
    "    if color == 1:\n",
    "        color_sq = ['#dadaebFF','#bcbddcF0','#9e9ac8F0', '#807dbaF0','#6a51a3F0','#54278fF0']\n",
    "        colors = 'Purples'\n",
    "    elif color == 2:\n",
    "        color_sq = ['#c7e9b4','#7fcdbb','#41b6c4', '#1d91c0','#225ea8','#253494']\n",
    "        colors = 'YlGnBu'\n",
    "    elif color == 3:\n",
    "        color_sq = ['#f7f7f7','#d9d9d9','#bdbdbd', '#969696','#636363','#252525']\n",
    "        colors = 'Greys'\n",
    "    elif color == 9:\n",
    "        color_sq = ['#ff0000','#ff0000','#ff0000', '#ff0000','#ff0000','#ff0000']\n",
    "    else:\n",
    "        color_sq = ['#ffffd4','#fee391','#fec44f', '#fe9929','#d95f0e','#993404']\n",
    "        colors = 'YlOrBr'\n",
    "    color_nums, bins = pd.qcut(data, 6, retbins=True, labels=list(range(6)))\n",
    "    color_codes = [color_sq[num] for num in color_nums]\n",
    "\n",
    "    return color_sq, color_codes, bins"
   ]
  },
  {
   "cell_type": "code",
   "execution_count": 5,
   "metadata": {},
   "outputs": [],
   "source": [
    "def plot_map_fill_multiples_ids_tone(sf, title, counties,  \n",
    "                                     print_id, color_codes, \n",
    "                                     color_sq, bins, \n",
    "                                     figsize = (11,9)):\n",
    "    fig = figure.Figure(figsize = figsize, tight_layout=True)\n",
    "    ax = fig.subplots()\n",
    "    ax.xaxis.set_visible(False)\n",
    "    ax.yaxis.set_visible(False)\n",
    "    ax.axis(\"off\")\n",
    "    patches = []\n",
    "    for i in range(len(color_sq)):\n",
    "        patches.append(mpatches.Patch(color=color_sq[i],\n",
    "                                      label=(\"[\" + str(round(bins[i], 3)) + \", \" + str(round(bins[i+1], 3)) + \")\")))\n",
    "    ax.legend(handles=patches)\n",
    "    \n",
    "    # Plot selected counties\n",
    "    for id in counties:\n",
    "        shape_ex = sf.shape(id)\n",
    "        x_lon = np.empty(len(shape_ex.points))\n",
    "        y_lat = np.empty(len(shape_ex.points))\n",
    "        for ip in range(len(shape_ex.points)):\n",
    "            x_lon[ip] = shape_ex.points[ip][0]\n",
    "            y_lat[ip] = shape_ex.points[ip][1]\n",
    "        ax.fill(x_lon, y_lat, color_codes[counties.index(id)])\n",
    "        if print_id:\n",
    "            x0 = np.mean(x_lon)\n",
    "            y0 = np.mean(y_lat)\n",
    "            ax.text(x0, y0, id, fontsize=10)\n",
    "            \n",
    "    return fig"
   ]
  },
  {
   "cell_type": "code",
   "execution_count": 6,
   "metadata": {},
   "outputs": [],
   "source": [
    "def plot_data(sf, title, county_ids, data=None, \n",
    "                      color=None, print_id=False,\n",
    "                      figsize=(15, 9)):\n",
    "    '''\n",
    "    Plot map with selected comunes, using specific color\n",
    "    '''\n",
    "    \n",
    "    color_sq, color_codes, bins = calc_color(data, color)\n",
    "    return plot_map_fill_multiples_ids_tone(sf, title, county_ids, \n",
    "                                     print_id, \n",
    "                                     color_codes,\n",
    "                                     color_sq,\n",
    "                                     bins,\n",
    "                                     figsize=figsize)"
   ]
  },
  {
   "cell_type": "code",
   "execution_count": 22,
   "metadata": {},
   "outputs": [],
   "source": [
    "def convert_to_image(fig):\n",
    "    buf = BytesIO()\n",
    "    fig.savefig(buf, format=\"png\", bbox_inches=\"tight\")\n",
    "    data = base64.b64encode(buf.getbuffer()).decode(\"ascii\")\n",
    "    return f\"data:image/png;base64,{data}\""
   ]
  },
  {
   "cell_type": "code",
   "execution_count": 15,
   "metadata": {},
   "outputs": [],
   "source": [
    "rainfall_maps = {}\n",
    "def get_rainfall_map(year):                                                                          \n",
    "    if year not in rainfall_maps:\n",
    "        california_rainfall = rainfall_df.loc[rainfall_df['stco'].isin(california_counties.stco) & (rainfall_df['year'] == year)]\n",
    "        california_rainfall = california_counties.merge(california_rainfall, how='left', on='stco')\n",
    "        california_rainfall = california_rainfall.fillna(california_rainfall.mean()).ppt\n",
    "\n",
    "        fig = plot_data(sf, 'California Rainfall ' + str(year), california_county_ids, data=california_rainfall, color=1, print_id=False, figsize=(8,11))\n",
    "        rainfall_maps[year] = convert_to_image(fig)\n",
    "    return rainfall_maps[year]\n",
    "\n"
   ]
  },
  {
   "cell_type": "code",
   "execution_count": 16,
   "metadata": {},
   "outputs": [],
   "source": [
    "temp_maps = {}\n",
    "def get_temp_map(year):                                                                          \n",
    "    if year not in temp_maps:\n",
    "        california_temp = temp_df.loc[temp_df['stco'].isin(california_counties.stco) & (temp_df['year'] == year)]\n",
    "        california_temp = california_counties.merge(california_temp, how='left', on='stco')\n",
    "        california_temp = california_temp.fillna(california_temp.mean()).avg_temp\n",
    "\n",
    "        fig = plot_data(sf, 'California Temp ' + str(year), california_county_ids, data=california_temp, color=1, print_id=False, figsize=(8,11))\n",
    "        temp_maps[year] = convert_to_image(fig)\n",
    "    return temp_maps[year]\n"
   ]
  },
  {
   "cell_type": "code",
   "execution_count": 17,
   "metadata": {},
   "outputs": [],
   "source": [
    "crop_maps = {}\n",
    "def get_crop_map(year):\n",
    "    if year not in crop_maps:\n",
    "        fig = figure.Figure(figsize=(8,11))\n",
    "        ax = fig.subplots()\n",
    "        ax.xaxis.set_visible(False)\n",
    "        ax.yaxis.set_visible(False)\n",
    "        ax.axis(\"off\")\n",
    "        \n",
    "        california_rainfall = rainfall_df.loc[rainfall_df['stco'].isin(california_counties.stco) & (rainfall_df['year'] == year)]\n",
    "        california_temp = temp_df.loc[temp_df['stco'].isin(california_counties.stco) & (temp_df['year'] == year)]\n",
    "        california_crop = california_counties.merge(california_rainfall, how='left', on='stco')\n",
    "        california_crop = california_crop.merge(california_temp, how='left', on=['stco', 'year'])\n",
    "        california_crop = california_crop.fillna(california_crop.mean())\n",
    "        california_crop = california_crop.assign(key=0).merge(crop_df.assign(key=0), how='left', on='key')\n",
    "        crop_filter = (california_crop['Min Temp'] <= california_crop['avg_temp']) & \\\n",
    "                      (california_crop['avg_temp'] <= california_crop['Max Temp'])\n",
    "        california_crop = california_crop[crop_filter]\n",
    "        california_crop['water_diff'] = abs(california_crop['ppt'] - california_crop['Min Water'])\n",
    "        california_crop = california_crop.sort_values(by='water_diff')\n",
    "        california_crop = california_crop.groupby('stco').head(2).sort_values(by='stco')\n",
    "        california_crop = california_crop[['atlas_name', 'stco', 'year', 'ppt', 'avg_temp', 'Crop']]\n",
    "        california_crop = california_crop.groupby(['atlas_name', 'stco', 'year', 'ppt', 'avg_temp'])['Crop'].apply(','.join).reset_index()\n",
    "        \n",
    "        texts = []\n",
    "        \n",
    "        for index, id in enumerate(california_county_ids):\n",
    "            shape_ex = sf.shape(id)\n",
    "            x_lon = np.empty(len(shape_ex.points))\n",
    "            y_lat = np.empty(len(shape_ex.points))\n",
    "            for ip in range(len(shape_ex.points)):\n",
    "                x_lon[ip] = shape_ex.points[ip][0]\n",
    "                y_lat[ip] = shape_ex.points[ip][1]\n",
    "            ax.fill(x_lon, y_lat, '#C5C5C5')\n",
    "            x0 = np.mean(x_lon)\n",
    "            y0 = np.mean(y_lat)\n",
    "            texts.append(ax.text(x0, y0, california_crop.iloc[index]['Crop'], fontsize=10, horizontalalignment=\"center\"))\n",
    "        adjust_text(texts, lim=50)\n",
    "        crop_maps[year] = convert_to_image(fig)\n",
    "    return crop_maps[year]\n",
    "\n"
   ]
  },
  {
   "cell_type": "markdown",
   "metadata": {},
   "source": [
    "# Data Loading"
   ]
  },
  {
   "cell_type": "code",
   "execution_count": 18,
   "metadata": {},
   "outputs": [],
   "source": [
    "sf = shp.Reader(\"./data/cntymap/cntymap.shp\", encoding='latin1')\n",
    "counties_df = read_shapefile(sf)\n",
    "rainfall_df = pd.read_csv(\"./data/pptAprOct.csv\")\n",
    "temp_df = pd.read_csv(\"./data/gddAprOctAvg.csv\", index_col=0)\n",
    "crop_df = pd.read_csv(\"./data/crop_data.csv\")\n",
    "\n",
    "# change stco type to int\n",
    "counties_df.stco = counties_df.stco.astype(int)\n",
    "counties_df = counties_df.drop(['SP_ID', 'SP_ID_1', 'atlas_caps', 'atlas_area', 'entity', 'cntya', 'cntyn', 'fid', 'eastm100',\n",
    "                 'coords', 'atlas_acre', 'atlas_stco'], axis=1)\n",
    "\n",
    "# convert temps to avg\n",
    "# temp_df = pd.read_csv(\"./data/gddAprOct.csv\")\n",
    "# temps = np.arange(-60, 60+1)\n",
    "# def calc_avg_temp(row):\n",
    "#     return np.average(temps, weights=row[2:])\n",
    "# avg_temp = temp_df.apply(func=calc_avg_temp, axis=1, raw=True)\n",
    "# temp_df['avg_temp'] = avg_temp\n",
    "# temp_df = temp_df.loc[:, ['stco', 'year', 'avg_temp']]\n",
    "# temp_df.to_csv('./data/gddAprOctAvg.csv')\n"
   ]
  },
  {
   "cell_type": "code",
   "execution_count": 19,
   "metadata": {},
   "outputs": [],
   "source": [
    "california_counties = counties_df[(counties_df['stco'].astype(int) < 7000) & (counties_df['stco'].astype(int) >= 6000)]\n",
    "california_county_ids = list(california_counties.index)\n"
   ]
  },
  {
   "cell_type": "markdown",
   "metadata": {},
   "source": [
    "# Displaying the Map"
   ]
  },
  {
   "cell_type": "markdown",
   "metadata": {},
   "source": [
    "# Saving Precomputed Maps"
   ]
  },
  {
   "cell_type": "code",
   "execution_count": 20,
   "metadata": {},
   "outputs": [
    {
     "data": {
      "image/png": "[encoded data removed]",
      "text/plain": [
       "<Figure size 432x288 with 1 Axes>"
      ]
     },
     "metadata": {
      "needs_background": "light"
     },
     "output_type": "display_data"
    }
   ],
   "source": [
    "for year in range(1981, 2015+1):\n",
    "    get_temp_map(year)\n",
    "    get_rainfall_map(year)\n",
    "    get_crop_map(year)"
   ]
  },
  {
   "cell_type": "code",
   "execution_count": 21,
   "metadata": {},
   "outputs": [],
   "source": [
    "with open('./data/rainfall_maps_dump', 'wb') as pickle_file:\n",
    "    pickle.dump(rainfall_maps, pickle_file)\n",
    "with open('./data/temp_maps_dump', 'wb') as pickle_file:\n",
    "    pickle.dump(temp_maps, pickle_file)\n",
    "with open('./data/crop_maps_dump', 'wb') as pickle_file:\n",
    "    pickle.dump(crop_maps, pickle_file)\n"
   ]
  },
  {
   "cell_type": "code",
   "execution_count": null,
   "metadata": {},
   "outputs": [],
   "source": []
  }
 ],
 "metadata": {
  "kernelspec": {
   "display_name": "Python 3",
   "language": "python",
   "name": "python3"
  },
  "language_info": {
   "codemirror_mode": {
    "name": "ipython",
    "version": 3
   },
   "file_extension": ".py",
   "mimetype": "text/x-python",
   "name": "python",
   "nbconvert_exporter": "python",
   "pygments_lexer": "ipython3",
   "version": "3.7.4"
  }
 },
 "nbformat": 4,
 "nbformat_minor": 2
}
